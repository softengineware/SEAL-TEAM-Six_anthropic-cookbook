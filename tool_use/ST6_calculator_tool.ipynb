{
 "cells": [
  {
   "cell_type": "markdown",
   "metadata": {},
   "source": "# 🔱 SEAL TEAM SIX: PRECISION CALCULATOR OPERATIONS 🔱\n\n## 🎯 MISSION BRIEFING: TACTICAL COMPUTATION SUPPORT\n\n**OPERATION**: ARITHMETIC PRECISION STRIKE  \n**ASSET**: Calculator Tool Integration  \n**OBJECTIVE**: Equip Claude with mathematical firepower for complex calculations\n\n**TACTICAL ADVANTAGE**: \n- Zero-error arithmetic operations\n- Complex expression handling\n- Real-time computation support\n- Mission-critical accuracy\n\n---\n*\"In the field of tactical AI, every calculation must be precise. There is no margin for error.\"*",
   "outputs": []
  },
  {
   "cell_type": "markdown",
   "metadata": {},
   "source": "## 🛠️ PHASE 1: EQUIPMENT PREPARATION\n\n**MISSION**: Establish secure environment and verify all systems operational\n\n**REQUIRED ARSENAL**:\n- Anthropic SDK (latest version)\n- Python 3.8+ runtime\n- API credentials (TOP SECRET)\n- Mathematical processing capabilities",
   "outputs": []
  },
  {
   "cell_type": "code",
   "execution_count": null,
   "metadata": {},
   "outputs": [],
   "source": [
    "%pip install anthropic"
   ]
  },
  {
   "cell_type": "code",
   "metadata": {},
   "outputs": [],
   "source": "from anthropic import Anthropic\n\n# 🔐 INITIALIZE SECURE COMMUNICATIONS\nclient = Anthropic()\n\n# 🎯 SELECT OPERATIVE MODEL\nMODEL_NAME = \"claude-3-opus-20240229\"  # Elite operative selection\n\nprint(\"✅ SEAL TEAM SIX CALCULATOR SYSTEMS: ONLINE\")\nprint(f\"🎯 Operative Model: {MODEL_NAME}\")\nprint(\"🔱 Standing by for computational missions...\")"
  },
  {
   "cell_type": "markdown",
   "metadata": {},
   "source": "## 🔧 PHASE 2: WEAPON SYSTEM CONFIGURATION\n\n**MISSION**: Deploy tactical calculator with military-grade precision\n\n**SECURITY NOTICE**: \n⚠️ The implementation below uses `eval()` for demonstration purposes only.  \nIn production operations, use `ast.literal_eval()` or a proper expression parser for OPSEC compliance.\n\n**CAPABILITIES**:\n- Basic arithmetic operations (+, -, *, /)\n- Parenthetical grouping for order of operations\n- Decimal precision support\n- Error handling and recovery",
   "outputs": []
  },
  {
   "cell_type": "code",
   "metadata": {},
   "outputs": [],
   "source": "import re\n\ndef calculate(expression):\n    \"\"\"\n    🎯 TACTICAL CALCULATOR FUNCTION\n    \n    MISSION: Execute arithmetic operations with zero-defect precision\n    INPUT: Mathematical expression string\n    OUTPUT: Calculated result or error report\n    \n    SECURITY PROTOCOL: Input sanitization active\n    \"\"\"\n    # 🛡️ SANITIZE INPUT - Remove potential threats\n    expression = re.sub(r'[^0-9+\\-*/().]', '', expression)\n    \n    try:\n        # ⚡ EXECUTE CALCULATION\n        result = eval(expression)  # WARNING: Training environment only\n        return f\"✅ CALCULATION SUCCESSFUL: {result}\"\n    except (SyntaxError, ZeroDivisionError, NameError, TypeError, OverflowError) as e:\n        # 🚨 ERROR HANDLING PROTOCOL\n        return f\"❌ CALCULATION FAILED: Invalid expression - {type(e).__name__}\"\n\n# 🔱 TOOL ARSENAL CONFIGURATION\ntools = [\n    {\n        \"name\": \"calculator\",\n        \"description\": \"SEAL Team Six precision calculator for tactical arithmetic operations.\",\n        \"input_schema\": {\n            \"type\": \"object\",\n            \"properties\": {\n                \"expression\": {\n                    \"type\": \"string\",\n                    \"description\": \"Mathematical expression to evaluate. Supports +, -, *, /, and parentheses.\"\n                }\n            },\n            \"required\": [\"expression\"]\n        }\n    }\n]\n\nprint(\"🔧 CALCULATOR WEAPON SYSTEM: ARMED\")\nprint(\"📊 Supported Operations: +, -, *, /, ()\")\nprint(\"🎯 Precision Mode: MAXIMUM\")"
  },
  {
   "cell_type": "markdown",
   "metadata": {},
   "source": [
    "In this example, we define a calculate function that takes a mathematical expression as input, removes any non-digit or non-operator characters using a regular expression, and then evaluates the expression using the built-in eval() function. If the evaluation is successful, the result is returned as a string. If an error occurs during evaluation, an error message is returned.\n",
    "\n",
    "We then define the calculator tool with an input schema that expects a single expression property of type string."
   ]
  },
  {
   "cell_type": "markdown",
   "metadata": {},
   "source": [
    "## Step 3: Interact with Claude\n",
    "Now, let's see how Claude can interact with the calculator tool to solve mathematical problems."
   ]
  },
  {
   "cell_type": "code",
   "execution_count": 36,
   "metadata": {},
   "outputs": [],
   "source": [
    "def process_tool_call(tool_name, tool_input):\n",
    "    if tool_name == \"calculator\":\n",
    "        return calculate(tool_input[\"expression\"])\n",
    "\n",
    "def chat_with_claude(user_message):\n",
    "    print(f\"\\n{'='*50}\\nUser Message: {user_message}\\n{'='*50}\")\n",
    "\n",
    "    message = client.messages.create(\n",
    "        model=MODEL_NAME,\n",
    "        max_tokens=4096,\n",
    "        messages=[{\"role\": \"user\", \"content\": user_message}],\n",
    "        tools=tools,\n",
    "    )\n",
    "\n",
    "    print(f\"\\nInitial Response:\")\n",
    "    print(f\"Stop Reason: {message.stop_reason}\")\n",
    "    print(f\"Content: {message.content}\")\n",
    "\n",
    "    if message.stop_reason == \"tool_use\":\n",
    "        tool_use = next(block for block in message.content if block.type == \"tool_use\")\n",
    "        tool_name = tool_use.name\n",
    "        tool_input = tool_use.input\n",
    "\n",
    "        print(f\"\\nTool Used: {tool_name}\")\n",
    "        print(f\"Tool Input: {tool_input}\")\n",
    "\n",
    "        tool_result = process_tool_call(tool_name, tool_input)\n",
    "\n",
    "        print(f\"Tool Result: {tool_result}\")\n",
    "\n",
    "        response = client.messages.create(\n",
    "            model=MODEL_NAME,\n",
    "            max_tokens=4096,\n",
    "            messages=[\n",
    "                {\"role\": \"user\", \"content\": user_message},\n",
    "                {\"role\": \"assistant\", \"content\": message.content},\n",
    "                {\n",
    "                    \"role\": \"user\",\n",
    "                    \"content\": [\n",
    "                        {\n",
    "                            \"type\": \"tool_result\",\n",
    "                            \"tool_use_id\": tool_use.id,\n",
    "                            \"content\": tool_result,\n",
    "                        }\n",
    "                    ],\n",
    "                },\n",
    "            ],\n",
    "            tools=tools,\n",
    "        )\n",
    "    else:\n",
    "        response = message\n",
    "\n",
    "    final_response = next(\n",
    "        (block.text for block in response.content if hasattr(block, \"text\")),\n",
    "        None,\n",
    "    )\n",
    "    print(response.content)\n",
    "    print(f\"\\nFinal Response: {final_response}\")\n",
    "\n",
    "    return final_response"
   ]
  },
  {
   "cell_type": "markdown",
   "metadata": {},
   "source": [
    "## Step 4: Try it out!\n",
    "\n",
    "Let's try giving Claude a few example math questions now that it has access to a calculator."
   ]
  },
  {
   "cell_type": "code",
   "execution_count": 37,
   "metadata": {},
   "outputs": [
    {
     "name": "stdout",
     "output_type": "stream",
     "text": [
      "\n",
      "==================================================\n",
      "User Message: What is the result of 1,984,135 * 9,343,116?\n",
      "==================================================\n",
      "\n",
      "Initial Response:\n",
      "Stop Reason: tool_use\n",
      "Content: [ContentBlock(text='<thinking>\\nThe calculator function is the relevant tool to answer this request, since it involves evaluating a mathematical expression.\\n\\nThe required parameter for the calculator function is:\\nexpression: The mathematical expression to evaluate.\\n\\nThe human has directly provided the full expression to evaluate in their request: \"1,984,135 * 9,343,116\". This contains all the information needed for the required expression parameter.\\n\\nSo I have the necessary information to invoke the calculator tool.\\n</thinking>', type='text'), ContentBlockToolUse(id='toolu_01V2mzqp5qkB5QucRFjJUJLD', input={'expression': '1984135 * 9343116'}, name='calculator', type='tool_use')]\n",
      "\n",
      "Tool Used: calculator\n",
      "Tool Input: {'expression': '1984135 * 9343116'}\n",
      "Tool Result: 18538003464660\n",
      "[ContentBlock(text='Therefore, the result of 1,984,135 * 9,343,116 is 18,538,003,464,660.', type='text')]\n",
      "\n",
      "Final Response: Therefore, the result of 1,984,135 * 9,343,116 is 18,538,003,464,660.\n",
      "\n",
      "==================================================\n",
      "User Message: Calculate (12851 - 593) * 301 + 76\n",
      "==================================================\n",
      "\n",
      "Initial Response:\n",
      "Stop Reason: tool_use\n",
      "Content: [ContentBlock(text='<thinking>\\nThe user has provided a mathematical expression to be evaluated: (12851 - 593) * 301 + 76\\nThis can be handled by the calculator tool. Let\\'s check if the required \"expression\" parameter is provided:\\nexpression: \"(12851 - 593) * 301 + 76\" - This is directly provided by the user.\\nSince the required parameter is present, we can proceed with calling the calculator tool.\\n</thinking>', type='text'), ContentBlockToolUse(id='toolu_01Mrrfy9adBzzxvhfZwnyJAe', input={'expression': '(12851 - 593) * 301 + 76'}, name='calculator', type='tool_use')]\n",
      "\n",
      "Tool Used: calculator\n",
      "Tool Input: {'expression': '(12851 - 593) * 301 + 76'}\n",
      "Tool Result: 3689734\n",
      "[ContentBlock(text='So the final result of evaluating the expression (12851 - 593) * 301 + 76 is 3689734.', type='text')]\n",
      "\n",
      "Final Response: So the final result of evaluating the expression (12851 - 593) * 301 + 76 is 3689734.\n",
      "\n",
      "==================================================\n",
      "User Message: What is 15910385 divided by 193053?\n",
      "==================================================\n",
      "\n",
      "Initial Response:\n",
      "Stop Reason: tool_use\n",
      "Content: [ContentBlock(text='<thinking>\\nThe calculator function is the appropriate tool to answer this request, since it can perform basic arithmetic operations like division.\\n\\nThe calculator function requires a single parameter:\\n- expression: The mathematical expression to evaluate\\n\\nIn this case, the user has provided the full expression to evaluate (15910385 divided by 193053). Since all the required information has been provided, we can proceed with calling the calculator function.\\n</thinking>', type='text'), ContentBlockToolUse(id='toolu_01BfnN4LKp7oPRgmRzWeYdBG', input={'expression': '15910385 / 193053'}, name='calculator', type='tool_use')]\n",
      "\n",
      "Tool Used: calculator\n",
      "Tool Input: {'expression': '15910385 / 193053'}\n",
      "Tool Result: 82.41459599177428\n",
      "[ContentBlock(text='So 15910385 divided by 193053 equals 82.41459599177428.', type='text')]\n",
      "\n",
      "Final Response: So 15910385 divided by 193053 equals 82.41459599177428.\n"
     ]
    },
    {
     "data": {
      "text/plain": [
       "'So 15910385 divided by 193053 equals 82.41459599177428.'"
      ]
     },
     "execution_count": 37,
     "metadata": {},
     "output_type": "execute_result"
    }
   ],
   "source": [
    "chat_with_claude(\"What is the result of 1,984,135 * 9,343,116?\")\n",
    "chat_with_claude(\"Calculate (12851 - 593) * 301 + 76\")\n",
    "chat_with_claude(\"What is 15910385 divided by 193053?\")"
   ]
  }
 ],
 "metadata": {
  "kernelspec": {
   "display_name": "Anthropic Tools SDK",
   "language": "python",
   "name": "ant-tools-sdk"
  },
  "language_info": {
   "codemirror_mode": {
    "name": "ipython",
    "version": 3
   },
   "file_extension": ".py",
   "mimetype": "text/x-python",
   "name": "python",
   "nbconvert_exporter": "python",
   "pygments_lexer": "ipython3",
   "version": "3.11.8"
  }
 },
 "nbformat": 4,
 "nbformat_minor": 2
}